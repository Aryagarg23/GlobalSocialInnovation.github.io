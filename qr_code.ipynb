{
 "cells": [
  {
   "cell_type": "code",
   "execution_count": 1,
   "metadata": {},
   "outputs": [
    {
     "name": "stdout",
     "output_type": "stream",
     "text": [
      "Defaulting to user installation because normal site-packages is not writeable\n",
      "Collecting qrcode[pil]\n",
      "  Downloading qrcode-8.0-py3-none-any.whl.metadata (17 kB)\n",
      "Requirement already satisfied: pillow>=9.1.0 in /home/arya/.local/lib/python3.10/site-packages (from qrcode[pil]) (10.4.0)\n",
      "Downloading qrcode-8.0-py3-none-any.whl (45 kB)\n",
      "Installing collected packages: qrcode\n",
      "Successfully installed qrcode-8.0\n",
      "Note: you may need to restart the kernel to use updated packages.\n"
     ]
    }
   ],
   "source": [
    "%pip install qrcode[pil]"
   ]
  },
  {
   "cell_type": "code",
   "execution_count": null,
   "metadata": {},
   "outputs": [],
   "source": [
    "import qrcode\n",
    "from PIL import Image, ImageDraw, ImageFont\n",
    "\n",
    "# Data to encode in the QR code\n",
    "data = \"https://aryagarg23.github.io/GlobalSocialInnovation.github.io/home.html\"\n",
    "\n",
    "# Create a QR Code instance\n",
    "qr = qrcode.QRCode(\n",
    "    version=1,  # Controls the size of the QR Code\n",
    "    error_correction=qrcode.constants.ERROR_CORRECT_L,  # Error correction level\n",
    "    box_size=10,  # Size of each box in the QR code grid\n",
    "    border=4,  # Border size (minimum is 4)\n",
    ")\n",
    "\n",
    "# Add data to the QR Code\n",
    "qr.add_data(data)\n",
    "qr.make(fit=True)\n",
    "\n",
    "# Create the QR Code image\n",
    "img = qr.make_image(fill_color=\"black\", back_color=\"white\")\n",
    "\n",
    "# Convert QR Code image to a format compatible with Pillow\n",
    "img = img.convert(\"RGBA\")\n",
    "\n",
    "# Define the name to display under the QR code\n",
    "name = \"Arya Garg\"\n",
    "\n",
    "# Font and text padding\n",
    "font_size = 35\n",
    "text_padding = 9  # Space between QR code and text\n",
    "\n",
    "# Use a TrueType font for resizing (ensure the font file is available)\n",
    "try:\n",
    "    font = ImageFont.truetype(\"Roboto-Bold.ttf\", font_size)  # Replace with the path to your font file\n",
    "except IOError:\n",
    "    font = ImageFont.load_default()  # Fallback if TrueType font is unavailable\n",
    "\n",
    "# Calculate text size\n",
    "text_bbox = font.getbbox(name)\n",
    "text_width = text_bbox[2] - text_bbox[0]\n",
    "text_height = text_bbox[3] - text_bbox[1]\n",
    "\n",
    "# Adjust the canvas width to fit the text if it’s wider than the QR code\n",
    "canvas_width = max(img.width, text_width)\n",
    "canvas_height = img.height + text_height + text_padding\n",
    "\n",
    "# Create a new image to hold the QR code and the name text\n",
    "combined_img = Image.new(\"RGBA\", (canvas_width, canvas_height), \"white\")\n",
    "\n",
    "# Center the QR code on the canvas\n",
    "qr_x = (canvas_width - img.width) // 2\n",
    "combined_img.paste(img, (qr_x, 0))\n",
    "\n",
    "# Draw the name text below the QR code\n",
    "draw = ImageDraw.Draw(combined_img)\n",
    "text_x = (canvas_width - text_width) // 2  # Center text horizontally\n",
    "text_y = img.height + text_padding - (text_bbox[1])  # Adjust text position based on padding and baseline\n",
    "draw.text((text_x, text_y), name, fill=\"black\", font=font)\n",
    "\n",
    "# Save the final image\n",
    "combined_img.save(\"qrcode_with_name_fixed.png\")\n"
   ]
  },
  {
   "cell_type": "code",
   "execution_count": null,
   "metadata": {},
   "outputs": [],
   "source": []
  }
 ],
 "metadata": {
  "kernelspec": {
   "display_name": "Python 3",
   "language": "python",
   "name": "python3"
  },
  "language_info": {
   "codemirror_mode": {
    "name": "ipython",
    "version": 3
   },
   "file_extension": ".py",
   "mimetype": "text/x-python",
   "name": "python",
   "nbconvert_exporter": "python",
   "pygments_lexer": "ipython3",
   "version": "3.10.12"
  }
 },
 "nbformat": 4,
 "nbformat_minor": 2
}
